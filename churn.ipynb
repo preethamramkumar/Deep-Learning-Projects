{
  "nbformat": 4,
  "nbformat_minor": 0,
  "metadata": {
    "colab": {
      "provenance": [],
      "collapsed_sections": []
    },
    "kernelspec": {
      "name": "python3",
      "display_name": "Python 3"
    },
    "language_info": {
      "name": "python"
    },
    "accelerator": "GPU"
  },
  "cells": [
    {
      "cell_type": "code",
      "execution_count": null,
      "metadata": {
        "colab": {
          "base_uri": "https://localhost:8080/"
        },
        "id": "8--K37FA_7Ke",
        "outputId": "c6c3bd1a-7e3c-47f2-ced7-1d801ba1632d"
      },
      "outputs": [
        {
          "output_type": "stream",
          "name": "stdout",
          "text": [
            "Looking in indexes: https://pypi.org/simple, https://us-python.pkg.dev/colab-wheels/public/simple/\n",
            "Collecting tensorflow-gpu\n",
            "  Downloading tensorflow_gpu-2.10.0-cp37-cp37m-manylinux_2_17_x86_64.manylinux2014_x86_64.whl (578.0 MB)\n",
            "\u001b[K     |████████████████████████████████| 578.0 MB 16 kB/s \n",
            "\u001b[?25hRequirement already satisfied: six>=1.12.0 in /usr/local/lib/python3.7/dist-packages (from tensorflow-gpu) (1.15.0)\n",
            "Requirement already satisfied: typing-extensions>=3.6.6 in /usr/local/lib/python3.7/dist-packages (from tensorflow-gpu) (4.1.1)\n",
            "Collecting gast<=0.4.0,>=0.2.1\n",
            "  Downloading gast-0.4.0-py3-none-any.whl (9.8 kB)\n",
            "Requirement already satisfied: packaging in /usr/local/lib/python3.7/dist-packages (from tensorflow-gpu) (21.3)\n",
            "Requirement already satisfied: protobuf<3.20,>=3.9.2 in /usr/local/lib/python3.7/dist-packages (from tensorflow-gpu) (3.17.3)\n",
            "Requirement already satisfied: h5py>=2.9.0 in /usr/local/lib/python3.7/dist-packages (from tensorflow-gpu) (3.1.0)\n",
            "Collecting tensorflow-estimator<2.11,>=2.10.0\n",
            "  Downloading tensorflow_estimator-2.10.0-py2.py3-none-any.whl (438 kB)\n",
            "\u001b[K     |████████████████████████████████| 438 kB 54.4 MB/s \n",
            "\u001b[?25hRequirement already satisfied: setuptools in /usr/local/lib/python3.7/dist-packages (from tensorflow-gpu) (57.4.0)\n",
            "Requirement already satisfied: libclang>=13.0.0 in /usr/local/lib/python3.7/dist-packages (from tensorflow-gpu) (14.0.6)\n",
            "Requirement already satisfied: astunparse>=1.6.0 in /usr/local/lib/python3.7/dist-packages (from tensorflow-gpu) (1.6.3)\n",
            "Requirement already satisfied: numpy>=1.20 in /usr/local/lib/python3.7/dist-packages (from tensorflow-gpu) (1.21.6)\n",
            "Requirement already satisfied: grpcio<2.0,>=1.24.3 in /usr/local/lib/python3.7/dist-packages (from tensorflow-gpu) (1.48.1)\n",
            "Requirement already satisfied: opt-einsum>=2.3.2 in /usr/local/lib/python3.7/dist-packages (from tensorflow-gpu) (3.3.0)\n",
            "Requirement already satisfied: tensorflow-io-gcs-filesystem>=0.23.1 in /usr/local/lib/python3.7/dist-packages (from tensorflow-gpu) (0.26.0)\n",
            "Requirement already satisfied: flatbuffers>=2.0 in /usr/local/lib/python3.7/dist-packages (from tensorflow-gpu) (2.0.7)\n",
            "Requirement already satisfied: keras-preprocessing>=1.1.1 in /usr/local/lib/python3.7/dist-packages (from tensorflow-gpu) (1.1.2)\n",
            "Requirement already satisfied: wrapt>=1.11.0 in /usr/local/lib/python3.7/dist-packages (from tensorflow-gpu) (1.14.1)\n",
            "Requirement already satisfied: absl-py>=1.0.0 in /usr/local/lib/python3.7/dist-packages (from tensorflow-gpu) (1.2.0)\n",
            "Requirement already satisfied: google-pasta>=0.1.1 in /usr/local/lib/python3.7/dist-packages (from tensorflow-gpu) (0.2.0)\n",
            "Collecting keras<2.11,>=2.10.0\n",
            "  Downloading keras-2.10.0-py2.py3-none-any.whl (1.7 MB)\n",
            "\u001b[K     |████████████████████████████████| 1.7 MB 55.5 MB/s \n",
            "\u001b[?25hCollecting tensorboard<2.11,>=2.10\n",
            "  Downloading tensorboard-2.10.0-py3-none-any.whl (5.9 MB)\n",
            "\u001b[K     |████████████████████████████████| 5.9 MB 42.7 MB/s \n",
            "\u001b[?25hRequirement already satisfied: termcolor>=1.1.0 in /usr/local/lib/python3.7/dist-packages (from tensorflow-gpu) (1.1.0)\n",
            "Requirement already satisfied: wheel<1.0,>=0.23.0 in /usr/local/lib/python3.7/dist-packages (from astunparse>=1.6.0->tensorflow-gpu) (0.37.1)\n",
            "Requirement already satisfied: cached-property in /usr/local/lib/python3.7/dist-packages (from h5py>=2.9.0->tensorflow-gpu) (1.5.2)\n",
            "Requirement already satisfied: werkzeug>=1.0.1 in /usr/local/lib/python3.7/dist-packages (from tensorboard<2.11,>=2.10->tensorflow-gpu) (1.0.1)\n",
            "Requirement already satisfied: markdown>=2.6.8 in /usr/local/lib/python3.7/dist-packages (from tensorboard<2.11,>=2.10->tensorflow-gpu) (3.4.1)\n",
            "Requirement already satisfied: tensorboard-data-server<0.7.0,>=0.6.0 in /usr/local/lib/python3.7/dist-packages (from tensorboard<2.11,>=2.10->tensorflow-gpu) (0.6.1)\n",
            "Requirement already satisfied: google-auth-oauthlib<0.5,>=0.4.1 in /usr/local/lib/python3.7/dist-packages (from tensorboard<2.11,>=2.10->tensorflow-gpu) (0.4.6)\n",
            "Requirement already satisfied: tensorboard-plugin-wit>=1.6.0 in /usr/local/lib/python3.7/dist-packages (from tensorboard<2.11,>=2.10->tensorflow-gpu) (1.8.1)\n",
            "Requirement already satisfied: google-auth<3,>=1.6.3 in /usr/local/lib/python3.7/dist-packages (from tensorboard<2.11,>=2.10->tensorflow-gpu) (1.35.0)\n",
            "Requirement already satisfied: requests<3,>=2.21.0 in /usr/local/lib/python3.7/dist-packages (from tensorboard<2.11,>=2.10->tensorflow-gpu) (2.23.0)\n",
            "Requirement already satisfied: cachetools<5.0,>=2.0.0 in /usr/local/lib/python3.7/dist-packages (from google-auth<3,>=1.6.3->tensorboard<2.11,>=2.10->tensorflow-gpu) (4.2.4)\n",
            "Requirement already satisfied: rsa<5,>=3.1.4 in /usr/local/lib/python3.7/dist-packages (from google-auth<3,>=1.6.3->tensorboard<2.11,>=2.10->tensorflow-gpu) (4.9)\n",
            "Requirement already satisfied: pyasn1-modules>=0.2.1 in /usr/local/lib/python3.7/dist-packages (from google-auth<3,>=1.6.3->tensorboard<2.11,>=2.10->tensorflow-gpu) (0.2.8)\n",
            "Requirement already satisfied: requests-oauthlib>=0.7.0 in /usr/local/lib/python3.7/dist-packages (from google-auth-oauthlib<0.5,>=0.4.1->tensorboard<2.11,>=2.10->tensorflow-gpu) (1.3.1)\n",
            "Requirement already satisfied: importlib-metadata>=4.4 in /usr/local/lib/python3.7/dist-packages (from markdown>=2.6.8->tensorboard<2.11,>=2.10->tensorflow-gpu) (4.12.0)\n",
            "Requirement already satisfied: zipp>=0.5 in /usr/local/lib/python3.7/dist-packages (from importlib-metadata>=4.4->markdown>=2.6.8->tensorboard<2.11,>=2.10->tensorflow-gpu) (3.8.1)\n",
            "Requirement already satisfied: pyasn1<0.5.0,>=0.4.6 in /usr/local/lib/python3.7/dist-packages (from pyasn1-modules>=0.2.1->google-auth<3,>=1.6.3->tensorboard<2.11,>=2.10->tensorflow-gpu) (0.4.8)\n",
            "Requirement already satisfied: idna<3,>=2.5 in /usr/local/lib/python3.7/dist-packages (from requests<3,>=2.21.0->tensorboard<2.11,>=2.10->tensorflow-gpu) (2.10)\n",
            "Requirement already satisfied: chardet<4,>=3.0.2 in /usr/local/lib/python3.7/dist-packages (from requests<3,>=2.21.0->tensorboard<2.11,>=2.10->tensorflow-gpu) (3.0.4)\n",
            "Requirement already satisfied: certifi>=2017.4.17 in /usr/local/lib/python3.7/dist-packages (from requests<3,>=2.21.0->tensorboard<2.11,>=2.10->tensorflow-gpu) (2022.6.15)\n",
            "Requirement already satisfied: urllib3!=1.25.0,!=1.25.1,<1.26,>=1.21.1 in /usr/local/lib/python3.7/dist-packages (from requests<3,>=2.21.0->tensorboard<2.11,>=2.10->tensorflow-gpu) (1.24.3)\n",
            "Requirement already satisfied: oauthlib>=3.0.0 in /usr/local/lib/python3.7/dist-packages (from requests-oauthlib>=0.7.0->google-auth-oauthlib<0.5,>=0.4.1->tensorboard<2.11,>=2.10->tensorflow-gpu) (3.2.0)\n",
            "Requirement already satisfied: pyparsing!=3.0.5,>=2.0.2 in /usr/local/lib/python3.7/dist-packages (from packaging->tensorflow-gpu) (3.0.9)\n",
            "Installing collected packages: tensorflow-estimator, tensorboard, keras, gast, tensorflow-gpu\n",
            "  Attempting uninstall: tensorflow-estimator\n",
            "    Found existing installation: tensorflow-estimator 2.8.0\n",
            "    Uninstalling tensorflow-estimator-2.8.0:\n",
            "      Successfully uninstalled tensorflow-estimator-2.8.0\n",
            "  Attempting uninstall: tensorboard\n",
            "    Found existing installation: tensorboard 2.8.0\n",
            "    Uninstalling tensorboard-2.8.0:\n",
            "      Successfully uninstalled tensorboard-2.8.0\n",
            "  Attempting uninstall: keras\n",
            "    Found existing installation: keras 2.8.0\n",
            "    Uninstalling keras-2.8.0:\n",
            "      Successfully uninstalled keras-2.8.0\n",
            "  Attempting uninstall: gast\n",
            "    Found existing installation: gast 0.5.3\n",
            "    Uninstalling gast-0.5.3:\n",
            "      Successfully uninstalled gast-0.5.3\n",
            "\u001b[31mERROR: pip's dependency resolver does not currently take into account all the packages that are installed. This behaviour is the source of the following dependency conflicts.\n",
            "tensorflow 2.8.2+zzzcolab20220719082949 requires keras<2.9,>=2.8.0rc0, but you have keras 2.10.0 which is incompatible.\n",
            "tensorflow 2.8.2+zzzcolab20220719082949 requires tensorboard<2.9,>=2.8, but you have tensorboard 2.10.0 which is incompatible.\n",
            "tensorflow 2.8.2+zzzcolab20220719082949 requires tensorflow-estimator<2.9,>=2.8, but you have tensorflow-estimator 2.10.0 which is incompatible.\u001b[0m\n",
            "Successfully installed gast-0.4.0 keras-2.10.0 tensorboard-2.10.0 tensorflow-estimator-2.10.0 tensorflow-gpu-2.10.0\n"
          ]
        }
      ],
      "source": [
        "! pip install tensorflow-gpu"
      ]
    },
    {
      "cell_type": "code",
      "source": [
        "import tensorflow as tf \n",
        "print(tf.__version__)"
      ],
      "metadata": {
        "colab": {
          "base_uri": "https://localhost:8080/"
        },
        "id": "2aiM2--UAmb0",
        "outputId": "8eb527ac-824e-45b8-c197-991d4e0124ba"
      },
      "execution_count": null,
      "outputs": [
        {
          "output_type": "stream",
          "name": "stdout",
          "text": [
            "2.10.0\n"
          ]
        }
      ]
    },
    {
      "cell_type": "code",
      "source": [
        "## import libraries\n",
        "import numpy as np\n",
        "import matplotlib.pyplot as plt\n",
        "import pandas as pd\n"
      ],
      "metadata": {
        "id": "L-HAaZF5BdAW"
      },
      "execution_count": 1,
      "outputs": []
    },
    {
      "cell_type": "code",
      "source": [
        "df= pd.read_csv(\"Churn_Modelling.csv\")"
      ],
      "metadata": {
        "id": "pkMvkKEEBraJ"
      },
      "execution_count": 3,
      "outputs": []
    },
    {
      "cell_type": "code",
      "source": [
        "df.head()"
      ],
      "metadata": {
        "colab": {
          "base_uri": "https://localhost:8080/",
          "height": 206
        },
        "id": "F1A3thf6B2Nq",
        "outputId": "62efbb8d-0953-41c1-9235-f3570df910af"
      },
      "execution_count": 4,
      "outputs": [
        {
          "output_type": "execute_result",
          "data": {
            "text/plain": [
              "   RowNumber  CustomerId   Surname  CreditScore Geography  Gender  Age  \\\n",
              "0          1    15634602  Hargrave          619    France  Female   42   \n",
              "1          2    15647311      Hill          608     Spain  Female   41   \n",
              "2          3    15619304      Onio          502    France  Female   42   \n",
              "3          4    15701354      Boni          699    France  Female   39   \n",
              "4          5    15737888  Mitchell          850     Spain  Female   43   \n",
              "\n",
              "   Tenure    Balance  NumOfProducts  HasCrCard  IsActiveMember  \\\n",
              "0       2       0.00              1          1               1   \n",
              "1       1   83807.86              1          0               1   \n",
              "2       8  159660.80              3          1               0   \n",
              "3       1       0.00              2          0               0   \n",
              "4       2  125510.82              1          1               1   \n",
              "\n",
              "   EstimatedSalary  Exited  \n",
              "0        101348.88       1  \n",
              "1        112542.58       0  \n",
              "2        113931.57       1  \n",
              "3         93826.63       0  \n",
              "4         79084.10       0  "
            ],
            "text/html": [
              "\n",
              "  <div id=\"df-4fb09887-9c0a-4c4f-8fbf-13d8956d1a27\">\n",
              "    <div class=\"colab-df-container\">\n",
              "      <div>\n",
              "<style scoped>\n",
              "    .dataframe tbody tr th:only-of-type {\n",
              "        vertical-align: middle;\n",
              "    }\n",
              "\n",
              "    .dataframe tbody tr th {\n",
              "        vertical-align: top;\n",
              "    }\n",
              "\n",
              "    .dataframe thead th {\n",
              "        text-align: right;\n",
              "    }\n",
              "</style>\n",
              "<table border=\"1\" class=\"dataframe\">\n",
              "  <thead>\n",
              "    <tr style=\"text-align: right;\">\n",
              "      <th></th>\n",
              "      <th>RowNumber</th>\n",
              "      <th>CustomerId</th>\n",
              "      <th>Surname</th>\n",
              "      <th>CreditScore</th>\n",
              "      <th>Geography</th>\n",
              "      <th>Gender</th>\n",
              "      <th>Age</th>\n",
              "      <th>Tenure</th>\n",
              "      <th>Balance</th>\n",
              "      <th>NumOfProducts</th>\n",
              "      <th>HasCrCard</th>\n",
              "      <th>IsActiveMember</th>\n",
              "      <th>EstimatedSalary</th>\n",
              "      <th>Exited</th>\n",
              "    </tr>\n",
              "  </thead>\n",
              "  <tbody>\n",
              "    <tr>\n",
              "      <th>0</th>\n",
              "      <td>1</td>\n",
              "      <td>15634602</td>\n",
              "      <td>Hargrave</td>\n",
              "      <td>619</td>\n",
              "      <td>France</td>\n",
              "      <td>Female</td>\n",
              "      <td>42</td>\n",
              "      <td>2</td>\n",
              "      <td>0.00</td>\n",
              "      <td>1</td>\n",
              "      <td>1</td>\n",
              "      <td>1</td>\n",
              "      <td>101348.88</td>\n",
              "      <td>1</td>\n",
              "    </tr>\n",
              "    <tr>\n",
              "      <th>1</th>\n",
              "      <td>2</td>\n",
              "      <td>15647311</td>\n",
              "      <td>Hill</td>\n",
              "      <td>608</td>\n",
              "      <td>Spain</td>\n",
              "      <td>Female</td>\n",
              "      <td>41</td>\n",
              "      <td>1</td>\n",
              "      <td>83807.86</td>\n",
              "      <td>1</td>\n",
              "      <td>0</td>\n",
              "      <td>1</td>\n",
              "      <td>112542.58</td>\n",
              "      <td>0</td>\n",
              "    </tr>\n",
              "    <tr>\n",
              "      <th>2</th>\n",
              "      <td>3</td>\n",
              "      <td>15619304</td>\n",
              "      <td>Onio</td>\n",
              "      <td>502</td>\n",
              "      <td>France</td>\n",
              "      <td>Female</td>\n",
              "      <td>42</td>\n",
              "      <td>8</td>\n",
              "      <td>159660.80</td>\n",
              "      <td>3</td>\n",
              "      <td>1</td>\n",
              "      <td>0</td>\n",
              "      <td>113931.57</td>\n",
              "      <td>1</td>\n",
              "    </tr>\n",
              "    <tr>\n",
              "      <th>3</th>\n",
              "      <td>4</td>\n",
              "      <td>15701354</td>\n",
              "      <td>Boni</td>\n",
              "      <td>699</td>\n",
              "      <td>France</td>\n",
              "      <td>Female</td>\n",
              "      <td>39</td>\n",
              "      <td>1</td>\n",
              "      <td>0.00</td>\n",
              "      <td>2</td>\n",
              "      <td>0</td>\n",
              "      <td>0</td>\n",
              "      <td>93826.63</td>\n",
              "      <td>0</td>\n",
              "    </tr>\n",
              "    <tr>\n",
              "      <th>4</th>\n",
              "      <td>5</td>\n",
              "      <td>15737888</td>\n",
              "      <td>Mitchell</td>\n",
              "      <td>850</td>\n",
              "      <td>Spain</td>\n",
              "      <td>Female</td>\n",
              "      <td>43</td>\n",
              "      <td>2</td>\n",
              "      <td>125510.82</td>\n",
              "      <td>1</td>\n",
              "      <td>1</td>\n",
              "      <td>1</td>\n",
              "      <td>79084.10</td>\n",
              "      <td>0</td>\n",
              "    </tr>\n",
              "  </tbody>\n",
              "</table>\n",
              "</div>\n",
              "      <button class=\"colab-df-convert\" onclick=\"convertToInteractive('df-4fb09887-9c0a-4c4f-8fbf-13d8956d1a27')\"\n",
              "              title=\"Convert this dataframe to an interactive table.\"\n",
              "              style=\"display:none;\">\n",
              "        \n",
              "  <svg xmlns=\"http://www.w3.org/2000/svg\" height=\"24px\"viewBox=\"0 0 24 24\"\n",
              "       width=\"24px\">\n",
              "    <path d=\"M0 0h24v24H0V0z\" fill=\"none\"/>\n",
              "    <path d=\"M18.56 5.44l.94 2.06.94-2.06 2.06-.94-2.06-.94-.94-2.06-.94 2.06-2.06.94zm-11 1L8.5 8.5l.94-2.06 2.06-.94-2.06-.94L8.5 2.5l-.94 2.06-2.06.94zm10 10l.94 2.06.94-2.06 2.06-.94-2.06-.94-.94-2.06-.94 2.06-2.06.94z\"/><path d=\"M17.41 7.96l-1.37-1.37c-.4-.4-.92-.59-1.43-.59-.52 0-1.04.2-1.43.59L10.3 9.45l-7.72 7.72c-.78.78-.78 2.05 0 2.83L4 21.41c.39.39.9.59 1.41.59.51 0 1.02-.2 1.41-.59l7.78-7.78 2.81-2.81c.8-.78.8-2.07 0-2.86zM5.41 20L4 18.59l7.72-7.72 1.47 1.35L5.41 20z\"/>\n",
              "  </svg>\n",
              "      </button>\n",
              "      \n",
              "  <style>\n",
              "    .colab-df-container {\n",
              "      display:flex;\n",
              "      flex-wrap:wrap;\n",
              "      gap: 12px;\n",
              "    }\n",
              "\n",
              "    .colab-df-convert {\n",
              "      background-color: #E8F0FE;\n",
              "      border: none;\n",
              "      border-radius: 50%;\n",
              "      cursor: pointer;\n",
              "      display: none;\n",
              "      fill: #1967D2;\n",
              "      height: 32px;\n",
              "      padding: 0 0 0 0;\n",
              "      width: 32px;\n",
              "    }\n",
              "\n",
              "    .colab-df-convert:hover {\n",
              "      background-color: #E2EBFA;\n",
              "      box-shadow: 0px 1px 2px rgba(60, 64, 67, 0.3), 0px 1px 3px 1px rgba(60, 64, 67, 0.15);\n",
              "      fill: #174EA6;\n",
              "    }\n",
              "\n",
              "    [theme=dark] .colab-df-convert {\n",
              "      background-color: #3B4455;\n",
              "      fill: #D2E3FC;\n",
              "    }\n",
              "\n",
              "    [theme=dark] .colab-df-convert:hover {\n",
              "      background-color: #434B5C;\n",
              "      box-shadow: 0px 1px 3px 1px rgba(0, 0, 0, 0.15);\n",
              "      filter: drop-shadow(0px 1px 2px rgba(0, 0, 0, 0.3));\n",
              "      fill: #FFFFFF;\n",
              "    }\n",
              "  </style>\n",
              "\n",
              "      <script>\n",
              "        const buttonEl =\n",
              "          document.querySelector('#df-4fb09887-9c0a-4c4f-8fbf-13d8956d1a27 button.colab-df-convert');\n",
              "        buttonEl.style.display =\n",
              "          google.colab.kernel.accessAllowed ? 'block' : 'none';\n",
              "\n",
              "        async function convertToInteractive(key) {\n",
              "          const element = document.querySelector('#df-4fb09887-9c0a-4c4f-8fbf-13d8956d1a27');\n",
              "          const dataTable =\n",
              "            await google.colab.kernel.invokeFunction('convertToInteractive',\n",
              "                                                     [key], {});\n",
              "          if (!dataTable) return;\n",
              "\n",
              "          const docLinkHtml = 'Like what you see? Visit the ' +\n",
              "            '<a target=\"_blank\" href=https://colab.research.google.com/notebooks/data_table.ipynb>data table notebook</a>'\n",
              "            + ' to learn more about interactive tables.';\n",
              "          element.innerHTML = '';\n",
              "          dataTable['output_type'] = 'display_data';\n",
              "          await google.colab.output.renderOutput(dataTable, element);\n",
              "          const docLink = document.createElement('div');\n",
              "          docLink.innerHTML = docLinkHtml;\n",
              "          element.appendChild(docLink);\n",
              "        }\n",
              "      </script>\n",
              "    </div>\n",
              "  </div>\n",
              "  "
            ]
          },
          "metadata": {},
          "execution_count": 4
        }
      ]
    },
    {
      "cell_type": "markdown",
      "source": [
        "here our dependent variable is exicted. as we can see here it is a bank details. we have to predict whether the customer is exited from the bank or not"
      ],
      "metadata": {
        "id": "o2FG4X-HCRfE"
      }
    },
    {
      "cell_type": "code",
      "source": [
        "# divide the dataset into independent and dependent features\n",
        "#x= independent features, iloc means index location\n",
        "X=df.iloc[:,3:13] # here we are taking 3rd column upto 12th column according to the problem statement it is not required to take 0,1,2 columns\n",
        "# y= dependent variable\n",
        "y=df.iloc[:,13]"
      ],
      "metadata": {
        "id": "lF7-mfqKCJAD"
      },
      "execution_count": 5,
      "outputs": []
    },
    {
      "cell_type": "code",
      "source": [
        "X.head()"
      ],
      "metadata": {
        "colab": {
          "base_uri": "https://localhost:8080/",
          "height": 206
        },
        "id": "B4aDwlslERp6",
        "outputId": "3072f79b-4ce4-4d99-e5a2-36fa6a7c2ddf"
      },
      "execution_count": 6,
      "outputs": [
        {
          "output_type": "execute_result",
          "data": {
            "text/plain": [
              "   CreditScore Geography  Gender  Age  Tenure    Balance  NumOfProducts  \\\n",
              "0          619    France  Female   42       2       0.00              1   \n",
              "1          608     Spain  Female   41       1   83807.86              1   \n",
              "2          502    France  Female   42       8  159660.80              3   \n",
              "3          699    France  Female   39       1       0.00              2   \n",
              "4          850     Spain  Female   43       2  125510.82              1   \n",
              "\n",
              "   HasCrCard  IsActiveMember  EstimatedSalary  \n",
              "0          1               1        101348.88  \n",
              "1          0               1        112542.58  \n",
              "2          1               0        113931.57  \n",
              "3          0               0         93826.63  \n",
              "4          1               1         79084.10  "
            ],
            "text/html": [
              "\n",
              "  <div id=\"df-145f3be4-2155-47af-a9a8-c173257e29c9\">\n",
              "    <div class=\"colab-df-container\">\n",
              "      <div>\n",
              "<style scoped>\n",
              "    .dataframe tbody tr th:only-of-type {\n",
              "        vertical-align: middle;\n",
              "    }\n",
              "\n",
              "    .dataframe tbody tr th {\n",
              "        vertical-align: top;\n",
              "    }\n",
              "\n",
              "    .dataframe thead th {\n",
              "        text-align: right;\n",
              "    }\n",
              "</style>\n",
              "<table border=\"1\" class=\"dataframe\">\n",
              "  <thead>\n",
              "    <tr style=\"text-align: right;\">\n",
              "      <th></th>\n",
              "      <th>CreditScore</th>\n",
              "      <th>Geography</th>\n",
              "      <th>Gender</th>\n",
              "      <th>Age</th>\n",
              "      <th>Tenure</th>\n",
              "      <th>Balance</th>\n",
              "      <th>NumOfProducts</th>\n",
              "      <th>HasCrCard</th>\n",
              "      <th>IsActiveMember</th>\n",
              "      <th>EstimatedSalary</th>\n",
              "    </tr>\n",
              "  </thead>\n",
              "  <tbody>\n",
              "    <tr>\n",
              "      <th>0</th>\n",
              "      <td>619</td>\n",
              "      <td>France</td>\n",
              "      <td>Female</td>\n",
              "      <td>42</td>\n",
              "      <td>2</td>\n",
              "      <td>0.00</td>\n",
              "      <td>1</td>\n",
              "      <td>1</td>\n",
              "      <td>1</td>\n",
              "      <td>101348.88</td>\n",
              "    </tr>\n",
              "    <tr>\n",
              "      <th>1</th>\n",
              "      <td>608</td>\n",
              "      <td>Spain</td>\n",
              "      <td>Female</td>\n",
              "      <td>41</td>\n",
              "      <td>1</td>\n",
              "      <td>83807.86</td>\n",
              "      <td>1</td>\n",
              "      <td>0</td>\n",
              "      <td>1</td>\n",
              "      <td>112542.58</td>\n",
              "    </tr>\n",
              "    <tr>\n",
              "      <th>2</th>\n",
              "      <td>502</td>\n",
              "      <td>France</td>\n",
              "      <td>Female</td>\n",
              "      <td>42</td>\n",
              "      <td>8</td>\n",
              "      <td>159660.80</td>\n",
              "      <td>3</td>\n",
              "      <td>1</td>\n",
              "      <td>0</td>\n",
              "      <td>113931.57</td>\n",
              "    </tr>\n",
              "    <tr>\n",
              "      <th>3</th>\n",
              "      <td>699</td>\n",
              "      <td>France</td>\n",
              "      <td>Female</td>\n",
              "      <td>39</td>\n",
              "      <td>1</td>\n",
              "      <td>0.00</td>\n",
              "      <td>2</td>\n",
              "      <td>0</td>\n",
              "      <td>0</td>\n",
              "      <td>93826.63</td>\n",
              "    </tr>\n",
              "    <tr>\n",
              "      <th>4</th>\n",
              "      <td>850</td>\n",
              "      <td>Spain</td>\n",
              "      <td>Female</td>\n",
              "      <td>43</td>\n",
              "      <td>2</td>\n",
              "      <td>125510.82</td>\n",
              "      <td>1</td>\n",
              "      <td>1</td>\n",
              "      <td>1</td>\n",
              "      <td>79084.10</td>\n",
              "    </tr>\n",
              "  </tbody>\n",
              "</table>\n",
              "</div>\n",
              "      <button class=\"colab-df-convert\" onclick=\"convertToInteractive('df-145f3be4-2155-47af-a9a8-c173257e29c9')\"\n",
              "              title=\"Convert this dataframe to an interactive table.\"\n",
              "              style=\"display:none;\">\n",
              "        \n",
              "  <svg xmlns=\"http://www.w3.org/2000/svg\" height=\"24px\"viewBox=\"0 0 24 24\"\n",
              "       width=\"24px\">\n",
              "    <path d=\"M0 0h24v24H0V0z\" fill=\"none\"/>\n",
              "    <path d=\"M18.56 5.44l.94 2.06.94-2.06 2.06-.94-2.06-.94-.94-2.06-.94 2.06-2.06.94zm-11 1L8.5 8.5l.94-2.06 2.06-.94-2.06-.94L8.5 2.5l-.94 2.06-2.06.94zm10 10l.94 2.06.94-2.06 2.06-.94-2.06-.94-.94-2.06-.94 2.06-2.06.94z\"/><path d=\"M17.41 7.96l-1.37-1.37c-.4-.4-.92-.59-1.43-.59-.52 0-1.04.2-1.43.59L10.3 9.45l-7.72 7.72c-.78.78-.78 2.05 0 2.83L4 21.41c.39.39.9.59 1.41.59.51 0 1.02-.2 1.41-.59l7.78-7.78 2.81-2.81c.8-.78.8-2.07 0-2.86zM5.41 20L4 18.59l7.72-7.72 1.47 1.35L5.41 20z\"/>\n",
              "  </svg>\n",
              "      </button>\n",
              "      \n",
              "  <style>\n",
              "    .colab-df-container {\n",
              "      display:flex;\n",
              "      flex-wrap:wrap;\n",
              "      gap: 12px;\n",
              "    }\n",
              "\n",
              "    .colab-df-convert {\n",
              "      background-color: #E8F0FE;\n",
              "      border: none;\n",
              "      border-radius: 50%;\n",
              "      cursor: pointer;\n",
              "      display: none;\n",
              "      fill: #1967D2;\n",
              "      height: 32px;\n",
              "      padding: 0 0 0 0;\n",
              "      width: 32px;\n",
              "    }\n",
              "\n",
              "    .colab-df-convert:hover {\n",
              "      background-color: #E2EBFA;\n",
              "      box-shadow: 0px 1px 2px rgba(60, 64, 67, 0.3), 0px 1px 3px 1px rgba(60, 64, 67, 0.15);\n",
              "      fill: #174EA6;\n",
              "    }\n",
              "\n",
              "    [theme=dark] .colab-df-convert {\n",
              "      background-color: #3B4455;\n",
              "      fill: #D2E3FC;\n",
              "    }\n",
              "\n",
              "    [theme=dark] .colab-df-convert:hover {\n",
              "      background-color: #434B5C;\n",
              "      box-shadow: 0px 1px 3px 1px rgba(0, 0, 0, 0.15);\n",
              "      filter: drop-shadow(0px 1px 2px rgba(0, 0, 0, 0.3));\n",
              "      fill: #FFFFFF;\n",
              "    }\n",
              "  </style>\n",
              "\n",
              "      <script>\n",
              "        const buttonEl =\n",
              "          document.querySelector('#df-145f3be4-2155-47af-a9a8-c173257e29c9 button.colab-df-convert');\n",
              "        buttonEl.style.display =\n",
              "          google.colab.kernel.accessAllowed ? 'block' : 'none';\n",
              "\n",
              "        async function convertToInteractive(key) {\n",
              "          const element = document.querySelector('#df-145f3be4-2155-47af-a9a8-c173257e29c9');\n",
              "          const dataTable =\n",
              "            await google.colab.kernel.invokeFunction('convertToInteractive',\n",
              "                                                     [key], {});\n",
              "          if (!dataTable) return;\n",
              "\n",
              "          const docLinkHtml = 'Like what you see? Visit the ' +\n",
              "            '<a target=\"_blank\" href=https://colab.research.google.com/notebooks/data_table.ipynb>data table notebook</a>'\n",
              "            + ' to learn more about interactive tables.';\n",
              "          element.innerHTML = '';\n",
              "          dataTable['output_type'] = 'display_data';\n",
              "          await google.colab.output.renderOutput(dataTable, element);\n",
              "          const docLink = document.createElement('div');\n",
              "          docLink.innerHTML = docLinkHtml;\n",
              "          element.appendChild(docLink);\n",
              "        }\n",
              "      </script>\n",
              "    </div>\n",
              "  </div>\n",
              "  "
            ]
          },
          "metadata": {},
          "execution_count": 6
        }
      ]
    },
    {
      "cell_type": "code",
      "source": [
        "y.head()"
      ],
      "metadata": {
        "colab": {
          "base_uri": "https://localhost:8080/"
        },
        "id": "c_knBDqbEVln",
        "outputId": "c3575a40-bb0a-4ecd-c51d-0de736263762"
      },
      "execution_count": 7,
      "outputs": [
        {
          "output_type": "execute_result",
          "data": {
            "text/plain": [
              "0    1\n",
              "1    0\n",
              "2    1\n",
              "3    0\n",
              "4    0\n",
              "Name: Exited, dtype: int64"
            ]
          },
          "metadata": {},
          "execution_count": 7
        }
      ]
    },
    {
      "cell_type": "code",
      "source": [
        "\n",
        "# feature engineering\n",
        "# here drop_first means it will remove the one column and and if the removed column shows 1 means other two columns will show zero \n",
        "geography=pd.get_dummies(X[\"Geography\"],drop_first=True)\n",
        "gender=pd.get_dummies(X['Gender'],drop_first=True)"
      ],
      "metadata": {
        "id": "tsWSWAA0EYFE"
      },
      "execution_count": 8,
      "outputs": []
    },
    {
      "cell_type": "code",
      "source": [
        "# concatenate these variables with dataframe\n",
        "X=pd.concat([X,geography,gender],axis=1)"
      ],
      "metadata": {
        "id": "3zV46JbSF76L"
      },
      "execution_count": 9,
      "outputs": []
    },
    {
      "cell_type": "code",
      "source": [
        "## Drop Unnecessary columns\n",
        "X=X.drop(['Geography','Gender'],axis=1)"
      ],
      "metadata": {
        "id": "LOI3h1kHGNIr"
      },
      "execution_count": 10,
      "outputs": []
    },
    {
      "cell_type": "code",
      "source": [
        "# Splitting the dataset into the Training set and Test set\n",
        "from sklearn.model_selection import train_test_split\n",
        "X_train, X_test, y_train, y_test = train_test_split(X, y, test_size = 0.2, random_state = 0)\n"
      ],
      "metadata": {
        "id": "wNtiKq2LGjx1"
      },
      "execution_count": 11,
      "outputs": []
    },
    {
      "cell_type": "code",
      "source": [
        "# Feature Scaling\n",
        "from sklearn.preprocessing import StandardScaler\n",
        "sc = StandardScaler()\n",
        "X_train = sc.fit_transform(X_train)\n",
        "X_test = sc.transform(X_test)"
      ],
      "metadata": {
        "id": "15r7UQS3HdMc"
      },
      "execution_count": 12,
      "outputs": []
    },
    {
      "cell_type": "code",
      "source": [
        "X_train"
      ],
      "metadata": {
        "id": "skt9SzpSm2BP",
        "colab": {
          "base_uri": "https://localhost:8080/"
        },
        "outputId": "03f7234d-9d01-47e8-963e-fffdcfb2216e"
      },
      "execution_count": 13,
      "outputs": [
        {
          "output_type": "execute_result",
          "data": {
            "text/plain": [
              "array([[ 0.16958176, -0.46460796,  0.00666099, ..., -0.5698444 ,\n",
              "         1.74309049, -1.09168714],\n",
              "       [-2.30455945,  0.30102557, -1.37744033, ...,  1.75486502,\n",
              "        -0.57369368,  0.91601335],\n",
              "       [-1.19119591, -0.94312892, -1.031415  , ..., -0.5698444 ,\n",
              "        -0.57369368, -1.09168714],\n",
              "       ...,\n",
              "       [ 0.9015152 , -0.36890377,  0.00666099, ..., -0.5698444 ,\n",
              "        -0.57369368,  0.91601335],\n",
              "       [-0.62420521, -0.08179119,  1.39076231, ..., -0.5698444 ,\n",
              "         1.74309049, -1.09168714],\n",
              "       [-0.28401079,  0.87525072, -1.37744033, ...,  1.75486502,\n",
              "        -0.57369368, -1.09168714]])"
            ]
          },
          "metadata": {},
          "execution_count": 13
        }
      ]
    },
    {
      "cell_type": "code",
      "source": [
        "X_test"
      ],
      "metadata": {
        "colab": {
          "base_uri": "https://localhost:8080/"
        },
        "id": "DZ4eLfdrrE_d",
        "outputId": "4d9c240f-f88d-49e8-fe95-dddccbcd53e6"
      },
      "execution_count": 14,
      "outputs": [
        {
          "output_type": "execute_result",
          "data": {
            "text/plain": [
              "array([[-0.55204276, -0.36890377,  1.04473698, ...,  1.75486502,\n",
              "        -0.57369368, -1.09168714],\n",
              "       [-1.31490297,  0.10961719, -1.031415  , ..., -0.5698444 ,\n",
              "        -0.57369368, -1.09168714],\n",
              "       [ 0.57162971,  0.30102557,  1.04473698, ..., -0.5698444 ,\n",
              "         1.74309049, -1.09168714],\n",
              "       ...,\n",
              "       [-0.74791227, -0.27319958, -1.37744033, ..., -0.5698444 ,\n",
              "         1.74309049,  0.91601335],\n",
              "       [-0.00566991, -0.46460796, -0.33936434, ...,  1.75486502,\n",
              "        -0.57369368,  0.91601335],\n",
              "       [-0.79945688, -0.84742473,  1.04473698, ...,  1.75486502,\n",
              "        -0.57369368,  0.91601335]])"
            ]
          },
          "metadata": {},
          "execution_count": 14
        }
      ]
    },
    {
      "cell_type": "code",
      "source": [
        "X_train.shape"
      ],
      "metadata": {
        "colab": {
          "base_uri": "https://localhost:8080/"
        },
        "id": "MQkxQ2u-rHO3",
        "outputId": "b3f59f69-0f24-46f5-abba-7200e8445b80"
      },
      "execution_count": 16,
      "outputs": [
        {
          "output_type": "execute_result",
          "data": {
            "text/plain": [
              "(8000, 11)"
            ]
          },
          "metadata": {},
          "execution_count": 16
        }
      ]
    },
    {
      "cell_type": "code",
      "source": [
        "X_test.shape"
      ],
      "metadata": {
        "colab": {
          "base_uri": "https://localhost:8080/"
        },
        "id": "KN4jYXqArLI5",
        "outputId": "8c4efb55-1a76-4294-d899-6158d026d012"
      },
      "execution_count": 17,
      "outputs": [
        {
          "output_type": "execute_result",
          "data": {
            "text/plain": [
              "(2000, 11)"
            ]
          },
          "metadata": {},
          "execution_count": 17
        }
      ]
    },
    {
      "cell_type": "code",
      "source": [
        "# 2nd part to create an ANN\n",
        "from tensorflow.keras.models import Sequential\n",
        "from tensorflow.keras.layers import Dense\n",
        "from tensorflow.keras.layers import LeakyReLU,PReLU,ELU,ReLU #activation functions\n",
        "from tensorflow.keras.layers import Dropout"
      ],
      "metadata": {
        "id": "NIfsPHUdrSMx"
      },
      "execution_count": 18,
      "outputs": []
    },
    {
      "cell_type": "code",
      "source": [
        "# ANN initiazation\n",
        "classifier= Sequential()"
      ],
      "metadata": {
        "id": "eH6IY8dnsovY"
      },
      "execution_count": 19,
      "outputs": []
    },
    {
      "cell_type": "code",
      "source": [
        "#adding input layer\n",
        "classifier.add(Dense(units=11,activation=\"relu\"))"
      ],
      "metadata": {
        "id": "B2cB4hZku4v_"
      },
      "execution_count": 20,
      "outputs": []
    },
    {
      "cell_type": "code",
      "source": [
        "# adding the 1st hidden layer\n",
        "classifier.add(Dense(units=7,activation=\"relu\"))\n"
      ],
      "metadata": {
        "id": "TXukkZCivHOU"
      },
      "execution_count": 21,
      "outputs": []
    },
    {
      "cell_type": "code",
      "source": [
        "# adding the 2nd hidden layer\n",
        "classifier.add(Dense(units=6,activation=\"relu\"))\n"
      ],
      "metadata": {
        "id": "4EKrxwyXvYvB"
      },
      "execution_count": 22,
      "outputs": []
    },
    {
      "cell_type": "code",
      "source": [
        "# adding the output layer\n",
        "classifier.add(Dense(1,activation=\"sigmoid\"))\n"
      ],
      "metadata": {
        "id": "y5txU47DvqT0"
      },
      "execution_count": 23,
      "outputs": []
    },
    {
      "cell_type": "code",
      "source": [
        "classifier.compile(optimizer=\"adam\",loss=\"binary_crossentropy\",metrics=[\"accuracy\"])"
      ],
      "metadata": {
        "id": "neTb_lvjv3xa"
      },
      "execution_count": 24,
      "outputs": []
    },
    {
      "cell_type": "code",
      "source": [
        "import tensorflow\n",
        "opt=tensorflow.keras.optimizers.Adam(learning_rate=0.01)"
      ],
      "metadata": {
        "id": "ejo2oUqRwV2i"
      },
      "execution_count": 25,
      "outputs": []
    },
    {
      "cell_type": "code",
      "source": [
        "# early stopping\n",
        "# it means Stop training when a monitored metric has stopped improving.\n",
        "\n",
        "import tensorflow as tf\n",
        "early_stopping=tf.keras.callbacks.EarlyStopping(\n",
        "    monitor=\"val_loss\",\n",
        "    min_delta=0.0001,\n",
        "    patience=20,\n",
        "    verbose=1,\n",
        "    mode=\"auto\",\n",
        "    baseline=None,\n",
        "    restore_best_weights=False,\n",
        ")"
      ],
      "metadata": {
        "id": "9-JrKOqrzTF8"
      },
      "execution_count": 26,
      "outputs": []
    },
    {
      "cell_type": "code",
      "source": [
        "# training\n",
        "model_train=classifier.fit(X_train,y_train,validation_split=0.33,batch_size=10,epochs=1000,callbacks=early_stopping)"
      ],
      "metadata": {
        "colab": {
          "base_uri": "https://localhost:8080/"
        },
        "id": "en06GfalxFmh",
        "outputId": "c9b3d182-6ac6-4c4c-ebcc-8c9aa7975bc7"
      },
      "execution_count": 28,
      "outputs": [
        {
          "output_type": "stream",
          "name": "stdout",
          "text": [
            "Epoch 1/1000\n",
            "536/536 [==============================] - 6s 4ms/step - loss: 0.4936 - accuracy: 0.7964 - val_loss: 0.4549 - val_accuracy: 0.7955\n",
            "Epoch 2/1000\n",
            "536/536 [==============================] - 2s 4ms/step - loss: 0.4378 - accuracy: 0.8029 - val_loss: 0.4424 - val_accuracy: 0.8092\n",
            "Epoch 3/1000\n",
            "536/536 [==============================] - 2s 4ms/step - loss: 0.4268 - accuracy: 0.8160 - val_loss: 0.4377 - val_accuracy: 0.8080\n",
            "Epoch 4/1000\n",
            "536/536 [==============================] - 2s 4ms/step - loss: 0.4186 - accuracy: 0.8216 - val_loss: 0.4304 - val_accuracy: 0.8129\n",
            "Epoch 5/1000\n",
            "536/536 [==============================] - 2s 4ms/step - loss: 0.4079 - accuracy: 0.8246 - val_loss: 0.4218 - val_accuracy: 0.8175\n",
            "Epoch 6/1000\n",
            "536/536 [==============================] - 2s 4ms/step - loss: 0.3965 - accuracy: 0.8315 - val_loss: 0.4143 - val_accuracy: 0.8164\n",
            "Epoch 7/1000\n",
            "536/536 [==============================] - 2s 4ms/step - loss: 0.3868 - accuracy: 0.8343 - val_loss: 0.4052 - val_accuracy: 0.8258\n",
            "Epoch 8/1000\n",
            "536/536 [==============================] - 2s 4ms/step - loss: 0.3781 - accuracy: 0.8399 - val_loss: 0.4015 - val_accuracy: 0.8266\n",
            "Epoch 9/1000\n",
            "536/536 [==============================] - 2s 4ms/step - loss: 0.3704 - accuracy: 0.8421 - val_loss: 0.3949 - val_accuracy: 0.8262\n",
            "Epoch 10/1000\n",
            "536/536 [==============================] - 2s 4ms/step - loss: 0.3658 - accuracy: 0.8438 - val_loss: 0.3894 - val_accuracy: 0.8254\n",
            "Epoch 11/1000\n",
            "536/536 [==============================] - 2s 4ms/step - loss: 0.3613 - accuracy: 0.8481 - val_loss: 0.3867 - val_accuracy: 0.8307\n",
            "Epoch 12/1000\n",
            "536/536 [==============================] - 2s 4ms/step - loss: 0.3578 - accuracy: 0.8511 - val_loss: 0.3848 - val_accuracy: 0.8281\n",
            "Epoch 13/1000\n",
            "536/536 [==============================] - 2s 4ms/step - loss: 0.3530 - accuracy: 0.8509 - val_loss: 0.3791 - val_accuracy: 0.8334\n",
            "Epoch 14/1000\n",
            "536/536 [==============================] - 2s 4ms/step - loss: 0.3485 - accuracy: 0.8550 - val_loss: 0.3729 - val_accuracy: 0.8368\n",
            "Epoch 15/1000\n",
            "536/536 [==============================] - 2s 4ms/step - loss: 0.3442 - accuracy: 0.8569 - val_loss: 0.3696 - val_accuracy: 0.8372\n",
            "Epoch 16/1000\n",
            "536/536 [==============================] - 2s 4ms/step - loss: 0.3401 - accuracy: 0.8546 - val_loss: 0.3701 - val_accuracy: 0.8402\n",
            "Epoch 17/1000\n",
            "536/536 [==============================] - 2s 4ms/step - loss: 0.3372 - accuracy: 0.8599 - val_loss: 0.3665 - val_accuracy: 0.8436\n",
            "Epoch 18/1000\n",
            "536/536 [==============================] - 2s 4ms/step - loss: 0.3358 - accuracy: 0.8619 - val_loss: 0.3635 - val_accuracy: 0.8482\n",
            "Epoch 19/1000\n",
            "536/536 [==============================] - 2s 4ms/step - loss: 0.3335 - accuracy: 0.8638 - val_loss: 0.3679 - val_accuracy: 0.8448\n",
            "Epoch 20/1000\n",
            "536/536 [==============================] - 2s 4ms/step - loss: 0.3321 - accuracy: 0.8625 - val_loss: 0.3660 - val_accuracy: 0.8508\n",
            "Epoch 21/1000\n",
            "536/536 [==============================] - 2s 4ms/step - loss: 0.3311 - accuracy: 0.8638 - val_loss: 0.3633 - val_accuracy: 0.8463\n",
            "Epoch 22/1000\n",
            "536/536 [==============================] - 2s 4ms/step - loss: 0.3299 - accuracy: 0.8627 - val_loss: 0.3636 - val_accuracy: 0.8493\n",
            "Epoch 23/1000\n",
            "536/536 [==============================] - 2s 4ms/step - loss: 0.3290 - accuracy: 0.8628 - val_loss: 0.3626 - val_accuracy: 0.8478\n",
            "Epoch 24/1000\n",
            "536/536 [==============================] - 2s 4ms/step - loss: 0.3278 - accuracy: 0.8632 - val_loss: 0.3614 - val_accuracy: 0.8523\n",
            "Epoch 25/1000\n",
            "536/536 [==============================] - 2s 4ms/step - loss: 0.3278 - accuracy: 0.8645 - val_loss: 0.3607 - val_accuracy: 0.8470\n",
            "Epoch 26/1000\n",
            "536/536 [==============================] - 2s 4ms/step - loss: 0.3266 - accuracy: 0.8630 - val_loss: 0.3607 - val_accuracy: 0.8474\n",
            "Epoch 27/1000\n",
            "536/536 [==============================] - 2s 4ms/step - loss: 0.3264 - accuracy: 0.8612 - val_loss: 0.3592 - val_accuracy: 0.8519\n",
            "Epoch 28/1000\n",
            "536/536 [==============================] - 3s 5ms/step - loss: 0.3257 - accuracy: 0.8627 - val_loss: 0.3599 - val_accuracy: 0.8470\n",
            "Epoch 29/1000\n",
            "536/536 [==============================] - 2s 4ms/step - loss: 0.3259 - accuracy: 0.8630 - val_loss: 0.3593 - val_accuracy: 0.8451\n",
            "Epoch 30/1000\n",
            "536/536 [==============================] - 2s 4ms/step - loss: 0.3254 - accuracy: 0.8642 - val_loss: 0.3596 - val_accuracy: 0.8470\n",
            "Epoch 31/1000\n",
            "536/536 [==============================] - 2s 4ms/step - loss: 0.3242 - accuracy: 0.8640 - val_loss: 0.3594 - val_accuracy: 0.8482\n",
            "Epoch 32/1000\n",
            "536/536 [==============================] - 2s 4ms/step - loss: 0.3241 - accuracy: 0.8634 - val_loss: 0.3581 - val_accuracy: 0.8485\n",
            "Epoch 33/1000\n",
            "536/536 [==============================] - 3s 6ms/step - loss: 0.3242 - accuracy: 0.8643 - val_loss: 0.3571 - val_accuracy: 0.8463\n",
            "Epoch 34/1000\n",
            "536/536 [==============================] - 2s 4ms/step - loss: 0.3234 - accuracy: 0.8645 - val_loss: 0.3581 - val_accuracy: 0.8455\n",
            "Epoch 35/1000\n",
            "536/536 [==============================] - 2s 4ms/step - loss: 0.3226 - accuracy: 0.8658 - val_loss: 0.3566 - val_accuracy: 0.8508\n",
            "Epoch 36/1000\n",
            "536/536 [==============================] - 2s 4ms/step - loss: 0.3227 - accuracy: 0.8640 - val_loss: 0.3580 - val_accuracy: 0.8470\n",
            "Epoch 37/1000\n",
            "536/536 [==============================] - 2s 4ms/step - loss: 0.3228 - accuracy: 0.8662 - val_loss: 0.3571 - val_accuracy: 0.8478\n",
            "Epoch 38/1000\n",
            "536/536 [==============================] - 2s 4ms/step - loss: 0.3220 - accuracy: 0.8683 - val_loss: 0.3560 - val_accuracy: 0.8474\n",
            "Epoch 39/1000\n",
            "536/536 [==============================] - 2s 4ms/step - loss: 0.3219 - accuracy: 0.8645 - val_loss: 0.3564 - val_accuracy: 0.8497\n",
            "Epoch 40/1000\n",
            "536/536 [==============================] - 2s 4ms/step - loss: 0.3224 - accuracy: 0.8675 - val_loss: 0.3540 - val_accuracy: 0.8523\n",
            "Epoch 41/1000\n",
            "536/536 [==============================] - 2s 4ms/step - loss: 0.3216 - accuracy: 0.8640 - val_loss: 0.3529 - val_accuracy: 0.8519\n",
            "Epoch 42/1000\n",
            "536/536 [==============================] - 2s 4ms/step - loss: 0.3212 - accuracy: 0.8668 - val_loss: 0.3544 - val_accuracy: 0.8527\n",
            "Epoch 43/1000\n",
            "536/536 [==============================] - 2s 4ms/step - loss: 0.3208 - accuracy: 0.8666 - val_loss: 0.3561 - val_accuracy: 0.8523\n",
            "Epoch 44/1000\n",
            "536/536 [==============================] - 2s 4ms/step - loss: 0.3206 - accuracy: 0.8668 - val_loss: 0.3539 - val_accuracy: 0.8523\n",
            "Epoch 45/1000\n",
            "536/536 [==============================] - 2s 4ms/step - loss: 0.3196 - accuracy: 0.8670 - val_loss: 0.3560 - val_accuracy: 0.8550\n",
            "Epoch 46/1000\n",
            "536/536 [==============================] - 2s 4ms/step - loss: 0.3201 - accuracy: 0.8709 - val_loss: 0.3559 - val_accuracy: 0.8489\n",
            "Epoch 47/1000\n",
            "536/536 [==============================] - 2s 4ms/step - loss: 0.3197 - accuracy: 0.8683 - val_loss: 0.3518 - val_accuracy: 0.8508\n",
            "Epoch 48/1000\n",
            "536/536 [==============================] - 2s 4ms/step - loss: 0.3191 - accuracy: 0.8671 - val_loss: 0.3600 - val_accuracy: 0.8516\n",
            "Epoch 49/1000\n",
            "536/536 [==============================] - 2s 4ms/step - loss: 0.3194 - accuracy: 0.8677 - val_loss: 0.3545 - val_accuracy: 0.8504\n",
            "Epoch 50/1000\n",
            "536/536 [==============================] - 2s 4ms/step - loss: 0.3189 - accuracy: 0.8683 - val_loss: 0.3534 - val_accuracy: 0.8531\n",
            "Epoch 51/1000\n",
            "536/536 [==============================] - 2s 4ms/step - loss: 0.3177 - accuracy: 0.8712 - val_loss: 0.3585 - val_accuracy: 0.8504\n",
            "Epoch 52/1000\n",
            "536/536 [==============================] - 2s 4ms/step - loss: 0.3186 - accuracy: 0.8679 - val_loss: 0.3539 - val_accuracy: 0.8535\n",
            "Epoch 53/1000\n",
            "536/536 [==============================] - 2s 4ms/step - loss: 0.3180 - accuracy: 0.8699 - val_loss: 0.3535 - val_accuracy: 0.8527\n",
            "Epoch 54/1000\n",
            "536/536 [==============================] - 2s 4ms/step - loss: 0.3165 - accuracy: 0.8684 - val_loss: 0.3545 - val_accuracy: 0.8519\n",
            "Epoch 55/1000\n",
            "536/536 [==============================] - 2s 4ms/step - loss: 0.3168 - accuracy: 0.8686 - val_loss: 0.3547 - val_accuracy: 0.8512\n",
            "Epoch 56/1000\n",
            "536/536 [==============================] - 2s 4ms/step - loss: 0.3164 - accuracy: 0.8684 - val_loss: 0.3562 - val_accuracy: 0.8523\n",
            "Epoch 57/1000\n",
            "536/536 [==============================] - 2s 4ms/step - loss: 0.3169 - accuracy: 0.8696 - val_loss: 0.3537 - val_accuracy: 0.8550\n",
            "Epoch 58/1000\n",
            "536/536 [==============================] - 2s 4ms/step - loss: 0.3143 - accuracy: 0.8716 - val_loss: 0.3591 - val_accuracy: 0.8569\n",
            "Epoch 59/1000\n",
            "536/536 [==============================] - 2s 4ms/step - loss: 0.3166 - accuracy: 0.8684 - val_loss: 0.3555 - val_accuracy: 0.8531\n",
            "Epoch 60/1000\n",
            "536/536 [==============================] - 2s 4ms/step - loss: 0.3150 - accuracy: 0.8705 - val_loss: 0.3530 - val_accuracy: 0.8569\n",
            "Epoch 61/1000\n",
            "536/536 [==============================] - 2s 4ms/step - loss: 0.3155 - accuracy: 0.8714 - val_loss: 0.3519 - val_accuracy: 0.8557\n",
            "Epoch 62/1000\n",
            "536/536 [==============================] - 2s 4ms/step - loss: 0.3162 - accuracy: 0.8722 - val_loss: 0.3544 - val_accuracy: 0.8531\n",
            "Epoch 63/1000\n",
            "536/536 [==============================] - 2s 4ms/step - loss: 0.3156 - accuracy: 0.8724 - val_loss: 0.3548 - val_accuracy: 0.8523\n",
            "Epoch 64/1000\n",
            "536/536 [==============================] - 2s 4ms/step - loss: 0.3156 - accuracy: 0.8703 - val_loss: 0.3530 - val_accuracy: 0.8565\n",
            "Epoch 65/1000\n",
            "536/536 [==============================] - 2s 4ms/step - loss: 0.3148 - accuracy: 0.8703 - val_loss: 0.3544 - val_accuracy: 0.8550\n",
            "Epoch 66/1000\n",
            "536/536 [==============================] - 2s 4ms/step - loss: 0.3138 - accuracy: 0.8709 - val_loss: 0.3555 - val_accuracy: 0.8531\n",
            "Epoch 67/1000\n",
            "536/536 [==============================] - 2s 4ms/step - loss: 0.3139 - accuracy: 0.8746 - val_loss: 0.3546 - val_accuracy: 0.8527\n",
            "Epoch 67: early stopping\n"
          ]
        }
      ]
    },
    {
      "cell_type": "code",
      "source": [
        "model_train.history.keys()"
      ],
      "metadata": {
        "colab": {
          "base_uri": "https://localhost:8080/"
        },
        "id": "tBcDbTB_0LEI",
        "outputId": "b202726c-b955-4fd6-b27a-40a42405176b"
      },
      "execution_count": 30,
      "outputs": [
        {
          "output_type": "execute_result",
          "data": {
            "text/plain": [
              "dict_keys(['loss', 'accuracy', 'val_loss', 'val_accuracy'])"
            ]
          },
          "metadata": {},
          "execution_count": 30
        }
      ]
    },
    {
      "cell_type": "code",
      "source": [
        "# sumarize history for accuracy\n",
        "plt.plot(model_train.history[\"accuracy\"])\n",
        "plt.plot(model_train.history[\"val_accuracy\"])\n",
        "plt.title(\"model_accuracy\")\n",
        "plt.xlabel(\"epoch\")\n",
        "plt.ylabel(\"accuracy\")\n",
        "plt.legend([\"train\",\"test\"],loc=\"upper left\")\n",
        "plt.show()"
      ],
      "metadata": {
        "colab": {
          "base_uri": "https://localhost:8080/",
          "height": 295
        },
        "id": "cagKbiyy1HFi",
        "outputId": "10bc8032-d808-450d-b95c-01fc1f24d527"
      },
      "execution_count": 31,
      "outputs": [
        {
          "output_type": "display_data",
          "data": {
            "text/plain": [
              "<Figure size 432x288 with 1 Axes>"
            ],
            "image/png": "[encoded data removed]"
          },
          "metadata": {
            "needs_background": "light"
          }
        }
      ]
    },
    {
      "cell_type": "code",
      "source": [
        "# sumarize history for loss\n",
        "plt.plot(model_train.history[\"loss\"])\n",
        "plt.plot(model_train.history[\"val_loss\"])\n",
        "plt.title(\"model_loss\")\n",
        "plt.xlabel(\"epoch\")\n",
        "plt.ylabel(\"loss\")\n",
        "plt.legend([\"train\",\"test\"],loc=\"upper left\")\n",
        "plt.show()"
      ],
      "metadata": {
        "colab": {
          "base_uri": "https://localhost:8080/",
          "height": 295
        },
        "id": "IvYd-zar2Ld9",
        "outputId": "8a47ef3a-5984-488d-ee7c-4b286559c0bf"
      },
      "execution_count": 32,
      "outputs": [
        {
          "output_type": "display_data",
          "data": {
            "text/plain": [
              "<Figure size 432x288 with 1 Axes>"
            ],
            "image/png": "[encoded data removed]"
          },
          "metadata": {
            "needs_background": "light"
          }
        }
      ]
    },
    {
      "cell_type": "code",
      "source": [
        "# part3 making prediction and evaluating the model\n",
        "# test data\n",
        "y_pred=classifier.predict(X_test)\n",
        "y_pred=(y_pred>=0.5)"
      ],
      "metadata": {
        "id": "XzQ9E7A72iDe"
      },
      "execution_count": 33,
      "outputs": []
    },
    {
      "cell_type": "code",
      "source": [
        "# confusion matrix\n",
        "from sklearn.metrics import confusion_matrix\n",
        "cm=confusion_matrix(y_test,y_pred)\n",
        "cm\n"
      ],
      "metadata": {
        "colab": {
          "base_uri": "https://localhost:8080/"
        },
        "id": "xVIplFcH3HVN",
        "outputId": "92b577af-0fff-49ea-a3c2-3ae64d75d82b"
      },
      "execution_count": 34,
      "outputs": [
        {
          "output_type": "execute_result",
          "data": {
            "text/plain": [
              "array([[1501,   94],\n",
              "       [ 193,  212]])"
            ]
          },
          "metadata": {},
          "execution_count": 34
        }
      ]
    },
    {
      "cell_type": "code",
      "source": [
        "# accuracy\n",
        "from sklearn.metrics import accuracy_score\n",
        "score= accuracy_score(y_pred,y_test)\n",
        "score\n"
      ],
      "metadata": {
        "colab": {
          "base_uri": "https://localhost:8080/"
        },
        "id": "qqhB-BGU3X3a",
        "outputId": "cab48494-b65c-4840-a1b3-5e6210dc0a16"
      },
      "execution_count": 35,
      "outputs": [
        {
          "output_type": "execute_result",
          "data": {
            "text/plain": [
              "0.8565"
            ]
          },
          "metadata": {},
          "execution_count": 35
        }
      ]
    },
    {
      "cell_type": "code",
      "source": [
        "# weights\n",
        "classifier.get_weights()"
      ],
      "metadata": {
        "colab": {
          "base_uri": "https://localhost:8080/"
        },
        "id": "_STAOhv73w3_",
        "outputId": "60ef8305-a4b3-4b4c-9df3-81898a9dc3b7"
      },
      "execution_count": 36,
      "outputs": [
        {
          "output_type": "execute_result",
          "data": {
            "text/plain": [
              "[array([[-0.41023824,  0.29059374, -0.09834457,  0.3103236 ,  0.2636067 ,\n",
              "         -0.38758633,  0.06952144, -0.10506752, -0.29343906, -0.210281  ,\n",
              "         -0.09271678],\n",
              "        [ 0.01731178, -0.574165  ,  0.57441694,  0.32680765, -0.27497858,\n",
              "         -0.4777748 ,  0.11929803,  0.6142886 , -0.09216692,  0.23283197,\n",
              "         -0.33262473],\n",
              "        [ 0.233756  ,  0.14614588, -0.02232696,  0.08177891, -0.32645044,\n",
              "         -0.26564544,  0.06840853, -0.09842709, -0.25922287, -0.08362336,\n",
              "         -0.07900053],\n",
              "        [-0.5528698 , -0.7112714 , -0.15580097, -0.5471576 ,  0.32523382,\n",
              "          0.29942092, -0.99972755, -0.20201485,  0.16483665,  0.23051952,\n",
              "         -0.03653675],\n",
              "        [-0.2548977 , -0.3130116 , -0.61423486, -0.20367359, -0.03517259,\n",
              "         -0.2978742 , -1.2709208 ,  0.94296926, -0.33364004, -1.3272995 ,\n",
              "         -0.33829793],\n",
              "        [-0.24507344, -0.27065644,  0.14262252, -0.09021964, -0.34904775,\n",
              "         -0.5821643 , -0.03153996, -0.13164839, -0.34571964, -0.09669071,\n",
              "          0.19280595],\n",
              "        [-0.07972405,  0.708046  ,  0.9863761 , -0.32078815, -0.597955  ,\n",
              "          0.38048238, -0.00666218, -0.3278471 ,  0.47205684, -0.1880669 ,\n",
              "         -0.3026088 ],\n",
              "        [-0.2128118 , -0.05290264,  0.0740087 , -0.27193278,  0.17722689,\n",
              "          0.3130946 , -0.05538773,  0.06531544, -0.17705649,  0.08699893,\n",
              "          0.09702936],\n",
              "        [-0.44292763, -0.19259402,  0.18004872, -0.22666089, -0.6584718 ,\n",
              "          0.17973058,  0.525706  , -0.02204736,  0.107872  , -0.16696252,\n",
              "          0.23291415],\n",
              "        [-0.10051343, -0.09984019, -0.00423032,  0.16506611, -0.5166463 ,\n",
              "         -0.30158776,  0.07786665,  0.0351312 , -0.4091367 , -0.18388128,\n",
              "          0.02904825],\n",
              "        [ 0.37299648,  0.4989927 ,  0.24902906, -0.24442476,  0.6036896 ,\n",
              "         -0.40134266,  0.0522762 ,  0.06620236,  0.05279511,  0.04858827,\n",
              "         -0.12874873]], dtype=float32),\n",
              " array([ 0.5833805 ,  0.78238165, -0.08671646,  0.27483323,  0.10069861,\n",
              "        -0.14320816, -0.27058595,  0.30940634,  0.5390832 ,  0.12107443,\n",
              "         1.030966  ], dtype=float32),\n",
              " array([[-0.73564523,  0.38805592,  0.23032859, -0.16220227,  0.6141685 ,\n",
              "          0.4017415 ,  0.70127344],\n",
              "        [-0.2000061 , -0.17213896,  0.26398563,  0.5550791 , -0.09425838,\n",
              "          0.32402742, -0.8502102 ],\n",
              "        [-1.1045986 ,  0.6483011 ,  0.09114984,  0.9199998 ,  0.30127373,\n",
              "         -0.22399776, -0.34263265],\n",
              "        [-0.2985446 ,  0.30637372,  0.43336782,  0.25671887,  0.40559268,\n",
              "         -0.03275226,  0.47215268],\n",
              "        [-0.07985355, -0.55086875,  0.1415168 , -0.31850287,  0.63776535,\n",
              "          0.20059872, -0.42471573],\n",
              "        [-0.5238869 , -0.2761346 , -0.12002493, -0.46694776, -0.21195273,\n",
              "         -0.16616708, -0.51249945],\n",
              "        [ 0.37925592, -0.3144243 , -1.1549134 , -0.24873783,  0.16695736,\n",
              "         -0.35206866, -0.18405367],\n",
              "        [ 0.7076968 ,  0.35414198, -0.00777173,  0.15791063, -0.3500706 ,\n",
              "         -0.30390018,  0.7507921 ],\n",
              "        [ 0.2660646 ,  0.3655841 ,  0.35910636, -0.44005114,  0.69578487,\n",
              "          0.26538974,  0.3095082 ],\n",
              "        [ 0.8543674 ,  0.18638892, -0.28376064, -0.01988312, -0.52942926,\n",
              "         -0.5807705 ,  0.2528104 ],\n",
              "        [-0.73015183, -1.2958179 ,  0.16712652, -0.22580326, -0.63691485,\n",
              "          0.6987944 ,  0.2878848 ]], dtype=float32),\n",
              " array([ 0.19037335, -0.50306284,  0.4272865 , -0.56355095, -0.08690084,\n",
              "         0.4916152 ,  0.0566356 ], dtype=float32),\n",
              " array([[ 1.268379  ,  0.08283877, -0.70064044, -0.9107761 , -0.22610465,\n",
              "         -0.81293577],\n",
              "        [-0.05405982, -0.9796121 , -0.9885915 ,  0.6455167 ,  0.2922013 ,\n",
              "          0.0479407 ],\n",
              "        [-0.18150635,  0.32188824,  0.50602806,  1.0103763 ,  0.06929111,\n",
              "          0.8602449 ],\n",
              "        [-1.4719745 ,  0.10998585,  0.32572654,  0.45504352, -0.11026214,\n",
              "          0.07842064],\n",
              "        [-0.3497669 , -0.12213822, -0.22400546, -0.6645149 , -0.8173561 ,\n",
              "         -0.11918189],\n",
              "        [-0.28328946,  0.86888194,  0.81227994, -0.22223486,  0.5064328 ,\n",
              "          0.19723986],\n",
              "        [ 0.8060375 ,  0.0765729 ,  0.5267709 ,  0.25362343, -0.75672156,\n",
              "          0.3300794 ]], dtype=float32),\n",
              " array([ 0.33797854,  0.15079175, -0.07356328,  0.0870667 ,  0.0612146 ,\n",
              "         0.00431035], dtype=float32),\n",
              " array([[ 1.2053684 ],\n",
              "        [-0.7626233 ],\n",
              "        [-0.4143846 ],\n",
              "        [-0.9486165 ],\n",
              "        [-0.16500506],\n",
              "        [-0.1973464 ]], dtype=float32),\n",
              " array([0.41378644], dtype=float32)]"
            ]
          },
          "metadata": {},
          "execution_count": 36
        }
      ]
    },
    {
      "cell_type": "code",
      "source": [],
      "metadata": {
        "id": "TwDjoh683_Yw"
      },
      "execution_count": null,
      "outputs": []
    }
  ]
}